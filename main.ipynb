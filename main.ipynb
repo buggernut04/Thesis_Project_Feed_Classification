{
 "cells": [
  {
   "cell_type": "code",
   "execution_count": 1,
   "metadata": {},
   "outputs": [
    {
     "name": "stderr",
     "output_type": "stream",
     "text": [
      "2025-02-16 20:35:47.876539: E external/local_xla/xla/stream_executor/cuda/cuda_fft.cc:477] Unable to register cuFFT factory: Attempting to register factory for plugin cuFFT when one has already been registered\n",
      "WARNING: All log messages before absl::InitializeLog() is called are written to STDERR\n",
      "E0000 00:00:1739709347.891304    1993 cuda_dnn.cc:8310] Unable to register cuDNN factory: Attempting to register factory for plugin cuDNN when one has already been registered\n",
      "E0000 00:00:1739709347.895550    1993 cuda_blas.cc:1418] Unable to register cuBLAS factory: Attempting to register factory for plugin cuBLAS when one has already been registered\n",
      "2025-02-16 20:35:47.910365: I tensorflow/core/platform/cpu_feature_guard.cc:210] This TensorFlow binary is optimized to use available CPU instructions in performance-critical operations.\n",
      "To enable the following instructions: AVX2 FMA, in other operations, rebuild TensorFlow with the appropriate compiler flags.\n"
     ]
    }
   ],
   "source": [
    "import numpy as np\n",
    "import os\n",
    "from PIL import Image\n",
    "from matplotlib import pyplot as plt\n",
    "import matplotlib.image as mpimg\n",
    "from timeit import default_timer as timer\n",
    "import cv2\n",
    "import seaborn as sns\n",
    "from sklearn.metrics import classification_report, precision_score, recall_score, f1_score, confusion_matrix\n",
    "\n",
    "import tensorflow as tf\n",
    "from tensorflow import keras\n",
    "from tensorflow.keras.optimizers import Adam\n",
    "from tensorflow.keras.callbacks import EarlyStopping\n",
    "from tensorflow.keras.models import load_model\n",
    "from tensorflow.keras.preprocessing import image\n",
    "\n",
    "import helperfunction as hf\n",
    "import cnn_models as cnn"
   ]
  },
  {
   "cell_type": "code",
   "execution_count": 2,
   "metadata": {},
   "outputs": [
    {
     "name": "stdout",
     "output_type": "stream",
     "text": [
      "1 Physical GPUs, 1 Logical GPUs\n"
     ]
    },
    {
     "name": "stderr",
     "output_type": "stream",
     "text": [
      "I0000 00:00:1739688569.305547     479 gpu_device.cc:2022] Created device /job:localhost/replica:0/task:0/device:GPU:0 with 9706 MB memory:  -> device: 0, name: NVIDIA GeForce RTX 3060, pci bus id: 0000:01:00.0, compute capability: 8.6\n"
     ]
    }
   ],
   "source": [
    "#Set GPU Allocation\n",
    "gpus = tf.config.experimental.list_physical_devices('GPU')\n",
    "\n",
    "if gpus:\n",
    "  try:\n",
    "    # Currently, memory growth needs to be the same across GPUs\n",
    "    for gpu in gpus:\n",
    "      tf.config.experimental.set_memory_growth(gpu, True)\n",
    "      \n",
    "    logical_gpus = tf.config.list_logical_devices('GPU')\n",
    "    print(len(gpus), \"Physical GPUs,\", len(logical_gpus), \"Logical GPUs\")\n",
    "  except RuntimeError as e:\n",
    "    # Memory growth must be set before GPUs have been initialized\n",
    "    print(e)"
   ]
  },
  {
   "cell_type": "markdown",
   "metadata": {},
   "source": [
    "## ACCESS IMAGES IN THE DIRECTORY"
   ]
  },
  {
   "cell_type": "code",
   "execution_count": null,
   "metadata": {
    "jupyter": {
     "source_hidden": true
    }
   },
   "outputs": [],
   "source": [
    "# Define the directory for images\n",
    "# Rice Bran\n",
    "# partial_dir = 'C:\\\\Users\\\\hp\\\\Documents\\\\VSU Files\\\\Fourth Year\\\\Thesis\\\\Dataset Images\\\\Rice Bran\\\\Raw\\\\Set 2'\n",
    "# partial_dir = '/mnt/c/Users/Room201B/Documents/Salem - Thesis/Dataset/Rice Bran/Raw/Set 2'\n",
    "\n",
    "# Soybean Meal\n",
    "# partial_dir = 'C:\\\\Users\\\\hp\\\\Documents\\\\VSU Files\\\\Fourth Year\\\\Thesis\\\\Dataset Images\\\\Soybean Meal\\\\Raw\\\\Set 1'\n",
    "partial_dir = '/mnt/c/Users/Room201B/Documents/Salem - Thesis/Dataset/Soybean Meal/Raw/Set 1'\n",
    "\n",
    "# Define the subdirectories for each fabric type\n",
    "pure_dir = os.path.join(partial_dir, 'Pure')\n",
    "adulterated_dir = os.path.join(partial_dir, 'Adulterated')\n",
    "\n",
    "# display sample image\n",
    "#image_path = os.path.join(adulterated_dir, 'adulterated_rb (500).jpg')\n",
    "#image_path = os.path.join(pure_dir, 'pure_rb (500).jpg')\n",
    "\n",
    "#image_path = os.path.join(adulterated_dir, 'adulterated_sbm (5).jpg')\n",
    "image_path = os.path.join(pure_dir, 'pure_sbm (5).jpg')\n",
    "\n",
    "\n",
    "img = mpimg.imread(image_path)\n",
    "print(img.shape)\n",
    "plt.imshow(img)\n",
    "plt.show()\n"
   ]
  },
  {
   "cell_type": "markdown",
   "metadata": {},
   "source": [
    "# PRE-PROCESS IMAGES"
   ]
  },
  {
   "cell_type": "code",
   "execution_count": 7,
   "metadata": {
    "jupyter": {
     "source_hidden": true
    }
   },
   "outputs": [],
   "source": [
    "# get images in each directory\n",
    "def process_one_image(directory, output_path, img_index, class_name, kernel_num, limit_num):\n",
    "    # Get a list of files in the directory, sorted by filename\n",
    "    files = sorted(os.listdir(directory), key=lambda x: int(x.split('(')[1].split(')')[0]))\n",
    "\n",
    "    for filename in files:\n",
    "        if f'{class_name} ({img_index}).jpg' in filename and img_index <= limit_num:\n",
    "            filepath = os.path.join(directory, filename)\n",
    "            # print(filepath)\n",
    "            # print(type(filepath))\n",
    "            # print(type(filepath))\n",
    "            \n",
    "            if os.path.isfile(filepath):\n",
    "                # Load the image\n",
    "                img_samp = cv2.imread(filepath)\n",
    "\n",
    "                if img_samp is not None:\n",
    "                    # Extract RGB channels\n",
    "                    r_channel = img_samp[:, :, 2]\n",
    "                    g_channel = img_samp[:, :, 1]\n",
    "                    b_channel = img_samp[:, :, 0]\n",
    "\n",
    "                    # convert to gray image\n",
    "                    gray_img = np.uint8((0.299 * r_channel)) + np.uint8((0.587 * g_channel)) + np.uint8((0.114 * b_channel))\n",
    "\n",
    "                    # threshold image\n",
    "                    thres_img = hf.segment_img(gray_img)\n",
    "\n",
    "                    # Define a rectangular structuring element (kernel)\n",
    "                    kernel = cv2.getStructuringElement(cv2.MORPH_RECT, (kernel_num, kernel_num))\n",
    "                    \n",
    "                    # Clean thresholded image\n",
    "                    opened_img = cv2.morphologyEx(thres_img, cv2.MORPH_OPEN, kernel)\n",
    "\n",
    "                    # Make the thresholded image into a 500 x 500 resolution\n",
    "                    final_img = hf.extract_and_resize_foreground(img_samp, opened_img)\n",
    "\n",
    "                    # Create the output folder if it doesn't exist\n",
    "                    os.makedirs(output_path, exist_ok=True)\n",
    "\n",
    "                    image_name = f'image ({img_index}).jpg'\n",
    "                    img_index += 1\n",
    "                    path = os.path.join(output_path, image_name)\n",
    "                    cv2.imwrite(path, final_img)\n",
    "                else:\n",
    "                    print(f\"Error: Unable to load {filename}\")\n",
    "\n",
    "# get images in each directory\n",
    "def process_two_image(directory, output_path, img_index, class_name, limit_num, target_size):\n",
    "    # Get a list of files in the directory, sorted by filename\n",
    "    files = sorted(os.listdir(directory), key=lambda x: int(x.split('(')[1].split(')')[0]))\n",
    "\n",
    "    for filename in files:\n",
    "        if f'{class_name} ({img_index}).jpg' in filename and img_index <= limit_num:\n",
    "            filepath = os.path.join(directory, filename)\n",
    "            # print(filepath)\n",
    "            # print(type(filepath))\n",
    "            # print(type(filepath))\n",
    "            \n",
    "            if os.path.isfile(filepath):\n",
    "                # Load the image\n",
    "                img_samp = cv2.imread(filepath)\n",
    "\n",
    "                if img_samp is not None:\n",
    "                    \n",
    "                    final_img = hf.resize_img(img_samp, target_size)\n",
    "\n",
    "                    # Create the output folder if it doesn't exist\n",
    "                    os.makedirs(output_path, exist_ok=True)\n",
    "\n",
    "                    image_name = f'image ({img_index}).jpg'\n",
    "                    img_index += 1\n",
    "                    path = os.path.join(output_path, image_name)\n",
    "                    cv2.imwrite(path, cv2.cvtColor(final_img, cv2.COLOR_RGB2BGR))\n",
    "                    \n",
    "                else:\n",
    "                    print(f\"Error: Unable to load {filename}\")"
   ]
  },
  {
   "cell_type": "markdown",
   "metadata": {},
   "source": [
    "### Rice Bran Pre-processing"
   ]
  },
  {
   "cell_type": "code",
   "execution_count": null,
   "metadata": {},
   "outputs": [],
   "source": [
    "# initialize kernel\n",
    "default_kernel = 5\n",
    "\n",
    "# Rice Bran Paths\n",
    "adulterated_output_folder_path = rf'C:\\Users\\hp\\Documents\\VSU Files\\Fourth Year\\Thesis\\Dataset Images\\Rice Bran\\Processed\\Set 3\\Adulterated'\n",
    "pure_output_folder_path = rf'C:\\Users\\hp\\Documents\\VSU Files\\Fourth Year\\Thesis\\Dataset Images\\Rice Bran\\Processed\\Set 3\\Pure'\n",
    "\n",
    "# adulterated_output_folder_path = '/mnt/c/Users/Room201B/Documents/Salem - Thesis/Dataset/Rice Bran/Processed/Set 2/Adulterated'\n",
    "# pure_output_folder_path = '/mnt/c/Users/Room201B/Documents/Salem - Thesis/Dataset/Rice Bran/Processed/Set 2/Pure'\n",
    "\n",
    "# process_one_image(adulterated_dir, adulterated_output_folder_path, 1, 'adulterated_rb', default_kernel, 500)\n",
    "# process_one_image(pure_dir, pure_output_folder_path, 1, 'pure_rb', default_kernel, 500)\n",
    "\n",
    "#adulterated_output_folder_path = '/mnt/c/Users/Room201B/Documents/Salem - Thesis/Dataset/Rice Bran/Processed/Set 4/Adulterated'\n",
    "#pure_output_folder_path = '/mnt/c/Users/Room201B/Documents/Salem - Thesis/Dataset/Rice Bran/Processed/Set 4/Pure'\n",
    "\n",
    "#process_two_image(adulterated_dir, adulterated_output_folder_path, 1, 'adulterated_rb', 500, 2800)\n",
    "#process_two_image(pure_dir, pure_output_folder_path, 1, 'pure_rb', 500, 2800)"
   ]
  },
  {
   "cell_type": "markdown",
   "metadata": {},
   "source": [
    "### Soybean Meal Pre-processing"
   ]
  },
  {
   "cell_type": "code",
   "execution_count": 11,
   "metadata": {},
   "outputs": [],
   "source": [
    "# initialize kernel\n",
    "default_kernel = 5\n",
    "\n",
    "# Soybean Meal Paths\n",
    "# adulterated_output_folder_path = rf'C:\\Users\\hp\\Documents\\VSU Files\\Fourth Year\\Thesis\\Dataset Images\\Rice Bran\\Processed\\Set 3\\Adulterated'\n",
    "# pure_output_folder_path = rf'C:\\Users\\hp\\Documents\\VSU Files\\Fourth Year\\Thesis\\Dataset Images\\Rice Bran\\Processed\\Set 3\\Pure'\n",
    "\n",
    "adulterated_output_folder_path = '/mnt/c/Users/Room201B/Documents/Salem - Thesis/Dataset/Soybean Meal/Processed/Set 1/Adulterated'\n",
    "pure_output_folder_path = '/mnt/c/Users/Room201B/Documents/Salem - Thesis/Dataset/Soybean Meal/Processed/Set 1/Pure'\n",
    "\n",
    "process_one_image(adulterated_dir, adulterated_output_folder_path, 1, 'adulterated_sbm', default_kernel, 500)\n",
    "process_one_image(pure_dir, pure_output_folder_path, 1, 'pure_sbm', default_kernel, 500)\n",
    "\n",
    "adulterated_output_folder_path = '/mnt/c/Users/Room201B/Documents/Salem - Thesis/Dataset/Soybean Meal/Processed/Set 2/Adulterated'\n",
    "pure_output_folder_path = '/mnt/c/Users/Room201B/Documents/Salem - Thesis/Dataset/Soybean Meal/Processed/Set 2/Pure'\n",
    "\n",
    "process_two_image(adulterated_dir, adulterated_output_folder_path, 1, 'adulterated_sbm', 500, 2800)\n",
    "process_two_image(pure_dir, pure_output_folder_path, 1, 'pure_sbm', 500, 2800)"
   ]
  },
  {
   "cell_type": "markdown",
   "metadata": {},
   "source": [
    "### For depicted image"
   ]
  },
  {
   "cell_type": "code",
   "execution_count": 15,
   "metadata": {
    "jupyter": {
     "source_hidden": true
    }
   },
   "outputs": [],
   "source": [
    "# Saving image that don't need high kernel\n",
    "# Adulterated\n",
    "changed_kernel_1 = 3\n",
    "process_one_image(adulterated_dir, adulterated_output_folder_path, 241, 'adulterated_rb', changed_kernel_1, 260)\n",
    "\n",
    "\n",
    "# Pure\n",
    "# changed_kernel_2 = 5\n",
    "# process_image(pure_dir, pure_output_folder_path, 301, 'pure_rb', changed_kernel_2, 420)"
   ]
  },
  {
   "cell_type": "markdown",
   "metadata": {},
   "source": [
    "### Transfer Images for Training and Testing"
   ]
  },
  {
   "cell_type": "code",
   "execution_count": null,
   "metadata": {},
   "outputs": [],
   "source": [
    "# Rice Bran\n",
    "aduterated_sourcepath_1 = '/mnt/c/Users/Room201B/Documents/Salem - Thesis/Dataset/Rice Bran/Processed/Set 2/Adulterated'\n",
    "pure_sourcepath_1 = '/mnt/c/Users/Room201B/Documents/Salem - Thesis/Dataset/Rice Bran/Processed/Set 2/Pure'\n",
    "\n",
    "aduterated_sourcepath_2 = '/mnt/c/Users/Room201B/Documents/Salem - Thesis/Dataset/Rice Bran/Processed/Set 4/Adulterated'\n",
    "pure_sourcepath_2 = '/mnt/c/Users/Room201B/Documents/Salem - Thesis/Dataset/Rice Bran/Processed/Set 4/Pure'\n",
    "\n",
    "# hf.transfer_image_train_and_test(aduterated_sourcepath_1, '/mnt/c/Users/Room201B/Documents/Salem - Thesis/Dataset/Rice Bran/Testing/Set 2/Adulterated', '/mnt/c/Users/Room201B/Documents/Salem - Thesis/Dataset/Rice Bran/Training and Validation/Set 2/Adulterated')\n",
    "\n",
    "# hf.transfer_image_train_and_test(pure_sourcepath_1, '/mnt/c/Users/Room201B/Documents/Salem - Thesis/Dataset/Rice Bran/Testing/Set 2/Pure', '/mnt/c/Users/Room201B/Documents/Salem - Thesis/Dataset/Rice Bran/Training and Validation/Set 2/Pure')\n",
    "\n",
    "# hf.transfer_image_train_and_test(aduterated_sourcepath_2, '/mnt/c/Users/Room201B/Documents/Salem - Thesis/Dataset/Rice Bran/Testing/Set 4/Adulterated', '/mnt/c/Users/Room201B/Documents/Salem - Thesis/Dataset/Rice Bran/Training and Validation/Set 4/Adulterated')\n",
    "\n",
    "# hf.transfer_image_train_and_test(pure_sourcepath_2, '/mnt/c/Users/Room201B/Documents/Salem - Thesis/Dataset/Rice Bran/Testing/Set 4/Pure', '/mnt/c/Users/Room201B/Documents/Salem - Thesis/Dataset/Rice Bran/Training and Validation/Set 4/Pure')"
   ]
  },
  {
   "cell_type": "code",
   "execution_count": null,
   "metadata": {},
   "outputs": [],
   "source": [
    "# Soybean Meal\n",
    "adulterated_sourcepath_1 = '/mnt/c/Users/Room201B/Documents/Salem - Thesis/Dataset/Soybean Meal/Processed/Set 1/Adulterated'\n",
    "pure_sourcepath_1 = '/mnt/c/Users/Room201B/Documents/Salem - Thesis/Dataset/Soybean Meal/Processed/Set 1/Pure'\n",
    "\n",
    "adulterated_sourcepath_2 = '/mnt/c/Users/Room201B/Documents/Salem - Thesis/Dataset/Soybean Meal/Processed/Set 2/Adulterated'\n",
    "pure_sourcepath_2 = '/mnt/c/Users/Room201B/Documents/Salem - Thesis/Dataset/Soybean Meal/Processed/Set 2/Pure'\n",
    "\n",
    "# hf.transfer_image_train_and_test(adulterated_sourcepath_1, '/mnt/c/Users/Room201B/Documents/Salem - Thesis/Dataset/Soybean Meal/Testing/Set 1/Adulterated', '/mnt/c/Users/Room201B/Documents/Salem - Thesis/Dataset/Soybean Meal/Training and Validation/Set 1/Adulterated')\n",
    "\n",
    "hf.transfer_image_train_and_test(pure_sourcepath_1, '/mnt/c/Users/Room201B/Documents/Salem - Thesis/Dataset/Soybean Meal/Testing/Set 1/Pure', '/mnt/c/Users/Room201B/Documents/Salem - Thesis/Dataset/Soybean Meal/Training and Validation/Set 1/Pure')\n",
    "\n",
    "# hf.transfer_image_train_and_test(adulterated_sourcepath_2, '/mnt/c/Users/Room201B/Documents/Salem - Thesis/Dataset/Soybean Meal/Testing/Set 2/Adulterated', '/mnt/c/Users/Room201B/Documents/Salem - Thesis/Dataset/Soybean Meal/Training and Validation/Set 2/Adulterated')\n",
    "\n",
    "# hf.transfer_image_train_and_test(pure_sourcepath_2, '/mnt/c/Users/Room201B/Documents/Salem - Thesis/Dataset/Soybean Meal/Testing/Set 2/Pure', '/mnt/c/Users/Room201B/Documents/Salem - Thesis/Dataset/Soybean Meal/Training and Validation/Set 2/Pure')"
   ]
  },
  {
   "cell_type": "markdown",
   "metadata": {},
   "source": [
    "### Data Augmentation"
   ]
  },
  {
   "cell_type": "code",
   "execution_count": 10,
   "metadata": {},
   "outputs": [
    {
     "name": "stdout",
     "output_type": "stream",
     "text": [
      "Initialised with 200 image(s) found.\n",
      "Output directory set to /mnt/c/Users/Room201B/Documents/Salem - Thesis/Dataset/Soybean Meal/Training and Validation/Set 1/Pure/output."
     ]
    },
    {
     "name": "stderr",
     "output_type": "stream",
     "text": [
      "Processing <PIL.Image.Image image mode=RGB size=400x400 at 0x7F125BE03050>: 100%|██████████| 2000/2000 [00:29<00:00, 67.52 Samples/s]                  \n"
     ]
    },
    {
     "name": "stdout",
     "output_type": "stream",
     "text": [
      "Initialised with 200 image(s) found.\n",
      "Output directory set to /mnt/c/Users/Room201B/Documents/Salem - Thesis/Dataset/Soybean Meal/Training and Validation/Set 1/Adulterated/output."
     ]
    },
    {
     "name": "stderr",
     "output_type": "stream",
     "text": [
      "Processing <PIL.Image.Image image mode=RGB size=400x400 at 0x7F1258DE0B60>: 100%|██████████| 2000/2000 [00:32<00:00, 62.39 Samples/s]                  \n"
     ]
    }
   ],
   "source": [
    "# Rice Bran\n",
    "#dir1 = '/mnt/c/Users/Room201B/Documents/Salem - Thesis/Dataset/Rice Bran/Training and Validation/Set 4'\n",
    "#dir2 = '/mnt/c/Users/Room201B/Documents/Salem - Thesis/Dataset/Rice Bran/Training and Validation/Set 3'\n",
    "\n",
    "# Soybean Meal\n",
    "dir1 = '/mnt/c/Users/Room201B/Documents/Salem - Thesis/Dataset/Soybean Meal/Training and Validation/Set 1'\n",
    "\n",
    "# Define the subdirectories for each type\n",
    "pure_dir1 = os.path.join(dir1, 'Pure')\n",
    "adulterated_dir1 = os.path.join(dir1, 'Adulterated')\n",
    "\n",
    "# pure_dir2 = os.path.join(dir2, 'Pure')\n",
    "# adulterated_dir2 = os.path.join(dir2, 'Adulterated')\n",
    "\n",
    "hf.img_augmentation(pure_dir1, 2000)\n",
    "hf.img_augmentation(adulterated_dir1, 2000)\n",
    "\n",
    "# hf.img_augmentation(pure_dir2)\n",
    "# hf.img_augmentation(adulterated_dir2)"
   ]
  },
  {
   "cell_type": "markdown",
   "metadata": {},
   "source": [
    "### Experiment Part"
   ]
  },
  {
   "cell_type": "code",
   "execution_count": null,
   "metadata": {
    "collapsed": true,
    "jupyter": {
     "outputs_hidden": true
    }
   },
   "outputs": [],
   "source": [
    "fig, axes = plt.subplots(nrows=1, ncols=5, figsize=(20, 6))\n",
    "#img_samp = cv2.imread(rf\"C:\\Users\\hp\\Documents\\VSU Files\\Fourth Year\\Thesis\\Dataset Images\\Rice Bran\\Raw\\Pure\\pure_rb (21).jpg\", cv2.COLOR_BGR2RGB)\n",
    "#img_samp = cv2.imread(rf\"C:\\Users\\hp\\Documents\\VSU Files\\Fourth Year\\Thesis\\Program\\Dataset Images\\Rice Bran\\Raw\\Adulterated\\adulterated_rb (125).jpg\", cv2.COLOR_BGR2RGB)\n",
    "\n",
    "#img_path = '/mnt/c/Users/Room201B/Documents/Salem - Thesis/Dataset/Rice Bran/Raw/Set 2/Adulterated/adulterated_rb (1)'\n",
    "img_samp = cv2.imread(image_path)\n",
    "\n",
    "thres_img = hf.segment_img(img_samp)\n",
    "\n",
    "# img_rgb = cv2.cvtColor(thres_img, cv2.COLOR_BGR2RGB)\n",
    "\n",
    "axes[0].imshow(thres_img)\n",
    "axes[0].set_title(\"Image\")\n",
    "axes[0].axis('off')\n",
    "\n",
    "#Extract RGB channels\n",
    "r_channel = img_samp[:, :, 2]\n",
    "g_channel = img_samp[:, :, 1]\n",
    "b_channel = img_samp[:, :, 0]\n",
    "\n",
    "gray_img = np.uint8((0.299 * r_channel)) + np.uint8((0.587 * g_channel)) + np.uint8((0.114 * b_channel))\n",
    "\n",
    "# Display the image in the first subplot\n",
    "axes[0].imshow(img_samp) \n",
    "axes[0].set_title(\"Original Image\")\n",
    "axes[0].axis('off')\n",
    "\n",
    "# Display the grayscale image in the second subplot (if needed)\n",
    "axes[1].imshow(gray_img, cmap='gray')\n",
    "axes[1].set_title(\"Grayscale Image\")\n",
    "axes[1].axis('off')\n",
    "\n",
    "# Display the thresholded image in the second subplot (if needed)\n",
    "thres_img = hf.segment_img(gray_img)\n",
    "axes[2].imshow(thres_img, cmap='gray')\n",
    "axes[2].set_title(\"Thresholded Image\")\n",
    "axes[2].axis('off')\n",
    "\n",
    "\n",
    "# Define a rectangular structuring element (kernel)\n",
    "kernel = cv2.getStructuringElement(cv2.MORPH_RECT, (5, 5))\n",
    "opened_img = cv2.morphologyEx(thres_img, cv2.MORPH_OPEN, kernel)\n",
    "\n",
    "final_img = hf.extract_and_resize_foreground(img_samp, opened_img)\n",
    "\n",
    "axes[3].imshow(final_img)\n",
    "axes[3].axis('off')\n",
    "axes[3].set_title(\"Clean Image\")\n",
    "\n",
    "\n"
   ]
  },
  {
   "cell_type": "code",
   "execution_count": null,
   "metadata": {
    "collapsed": true,
    "jupyter": {
     "outputs_hidden": true,
     "source_hidden": true
    }
   },
   "outputs": [],
   "source": [
    "# Convert BGR to RGB for Matplotlib display\n",
    "# img_rgb = cv2.cvtColor(img_samp, cv2.COLOR_BGR2RGB)\n",
    "\n",
    "# print(img_rgb.shape)\n",
    "\n",
    "# target_size = 2800\n",
    "# pos = 2\n",
    "\n",
    "# # Draw triangle in the image\n",
    "# cv2.rectangle(img_rgb, ((img_rgb.shape[1] - target_size) // pos, (img_rgb.shape[0] - target_size) // pos), ((img_rgb.shape[1] + target_size) // pos, (img_rgb.shape[0] + target_size) // pos), (0, 255, 0), 3)\n",
    "\n",
    "# # Display the image with aspect ratio preserved and no axes\n",
    "# plt.imshow(img_rgb)\n",
    "# plt.axis('off')\n",
    "# plt.show()\n",
    "\n",
    "img_samp = cv2.imread(image_path)\n",
    "# Convert BGR to RGB for Matplotlib display\n",
    "img_rgb = cv2.cvtColor(img_samp, cv2.COLOR_BGR2RGB)\n",
    "\n",
    "print(img_rgb.shape)\n",
    "\n",
    "target_size = 2800\n",
    "pos = 2\n",
    "\n",
    "# Define the rectangle coordinates\n",
    "x1 = (img_rgb.shape[1] - target_size) // pos\n",
    "y1 = (img_rgb.shape[0] - target_size) // pos\n",
    "x2 = (img_rgb.shape[1] + target_size) // pos\n",
    "y2 = (img_rgb.shape[0] + target_size) // pos\n",
    "\n",
    "# Draw rectangle in the image\n",
    "cv2.rectangle(img_rgb, (x1, y1), (x2, y2), (0, 255, 0), 3)\n",
    "\n",
    "# Extract the region of interest (ROI) within the rectangle\n",
    "roi = img_rgb[y1:y2, x1:x2]\n",
    "\n",
    "# Resize the ROI to 400x400\n",
    "resized_roi = cv2.resize(roi, (400, 400))\n",
    "\n",
    "# Save the resized ROI\n",
    "#cv2.imwrite('resized_roi2.jpg', cv2.cvtColor(resized_roi, cv2.COLOR_RGB2BGR))\n",
    "\n",
    "# Display the original image with the rectangle\n",
    "plt.imshow(img_rgb)\n",
    "plt.axis('off')\n",
    "plt.show()\n",
    "\n",
    "# Display the resized ROI\n",
    "plt.imshow(resized_roi)\n",
    "plt.axis('off')\n",
    "plt.show()\n",
    "\n",
    "print(resized_roi.shape)\n"
   ]
  },
  {
   "cell_type": "markdown",
   "metadata": {},
   "source": [
    "## START OF THE TRAINING PROCESS"
   ]
  },
  {
   "cell_type": "code",
   "execution_count": 11,
   "metadata": {
    "scrolled": true
   },
   "outputs": [],
   "source": [
    "# Define the base directory\n",
    "# Rice Bran\n",
    "#base_dir = 'C:\\\\Users\\\\hp\\\\Documents\\\\VSU Files\\\\Fourth Year\\\\Thesis\\\\Program\\\\Dataset Images\\\\Raw\\\\Rice Bran\\\\Training and Validation'\n",
    "#base_dir = 'C:\\\\Users\\\\hp\\\\Documents\\\\VSU Files\\\\Fourth Year\\\\Thesis\\\\Program\\\\Dataset Images\\\\Rice Bran\\\\Raw'\n",
    "#base_dir = '/mnt/c/Users/Room201B/Documents/Salem - Thesis/Dataset/Rice Bran/Training and Validation/Set 3'\n",
    "\n",
    "# Soybean Meal\n",
    "# base_dir = '/mnt/c/Users/Room201B/Documents/Salem - Thesis/Dataset/Soybean Meal/Training and Validation/Set 2'\n",
    "base_dir = '/mnt/c/Users/Room201B/Documents/Salem - Thesis/Dataset/Soybean Meal/Training and Validation/Set 1'\n",
    "\n",
    "# Define the subdirectories for each type\n",
    "pure_rb_dir = os.path.join(base_dir, 'Pure')\n",
    "adulterated_rb_dir = os.path.join(base_dir, 'Adulterated')\n",
    "\n",
    "# image_path = os.path.join(adulterated_rb_dir, 'Adulterated_original_image (13).jpg_4a486883-be2c-414c-9d5e-0545d28807d8.jpg')\n",
    "# img = mpimg.imread(image_path)\n",
    "# print(img.shape)\n",
    "# plt.imshow(img)\n",
    "# plt.show()\n"
   ]
  },
  {
   "cell_type": "markdown",
   "metadata": {},
   "source": [
    "### Data Splitting"
   ]
  },
  {
   "cell_type": "code",
   "execution_count": 12,
   "metadata": {},
   "outputs": [
    {
     "name": "stdout",
     "output_type": "stream",
     "text": [
      "Found 4000 files belonging to 2 classes.\n",
      "Using 3200 files for training.\n",
      "Found 4000 files belonging to 2 classes.\n",
      "Using 800 files for validation.\n",
      "['Adulterated', 'Pure']\n"
     ]
    }
   ],
   "source": [
    "train_ds = tf.keras.preprocessing.image_dataset_from_directory(\n",
    "    base_dir,\n",
    "    validation_split=0.2,\n",
    "    subset='training',\n",
    "    seed = 123,\n",
    "    label_mode='binary',\n",
    "    image_size=(400, 400),\n",
    "    batch_size=32,\n",
    "    shuffle=True\n",
    ")\n",
    "\n",
    "validation_ds = tf.keras.preprocessing.image_dataset_from_directory(\n",
    "    base_dir,\n",
    "    validation_split=0.2,\n",
    "    subset='validation',\n",
    "    seed = 123,\n",
    "    label_mode='binary',\n",
    "    image_size=(400, 400),\n",
    "    batch_size=32,\n",
    "    shuffle=False\n",
    ")\n",
    "\n",
    "class_names = train_ds.class_names\n",
    "print(class_names)"
   ]
  },
  {
   "cell_type": "markdown",
   "metadata": {},
   "source": [
    "### Training Process With Different Types of CNN Architecture"
   ]
  },
  {
   "cell_type": "markdown",
   "metadata": {},
   "source": [
    "#### Custom CNN Model"
   ]
  },
  {
   "cell_type": "code",
   "execution_count": null,
   "metadata": {},
   "outputs": [],
   "source": [
    "# number of epochs\n",
    "epoch = 10\n",
    "start = timer()\n",
    "\n",
    "# Custom CNN Model\n",
    "custom_model = cnn.CustomModel()\n",
    "custom_model.compile(optimizer=Adam(learning_rate=0.0001), \n",
    "                     loss='binary_crossentropy', \n",
    "                     metrics=['accuracy'])\n",
    "\n",
    "custom_model_history = custom_model.fit(x = train_ds, validation_data=validation_ds, epochs=epoch)\n",
    "print('Total Time consumed for ' + str(epoch) + ' --->', timer()-start)"
   ]
  },
  {
   "cell_type": "markdown",
   "metadata": {},
   "source": [
    "#### Evaluate Model"
   ]
  },
  {
   "cell_type": "code",
   "execution_count": null,
   "metadata": {},
   "outputs": [],
   "source": [
    "fig_one = plt.gcf()\n",
    "\n",
    "# Model Accuracy\n",
    "plt.plot(custom_model_history.history['accuracy'])\n",
    "plt.plot(custom_model_history.history['val_accuracy'])\n",
    "plt.axis(ymin=0.4, ymax = 1)\n",
    "plt.grid()\n",
    "plt.title('Model Accuracy')\n",
    "plt.ylabel('Accuracy')\n",
    "plt.xlabel('Epochs')\n",
    "plt.legend(['train', 'validation'])\n",
    "plt.show()"
   ]
  },
  {
   "cell_type": "code",
   "execution_count": null,
   "metadata": {},
   "outputs": [],
   "source": [
    "# Model Loss\n",
    "plt.plot(custom_model_history.history['loss'])\n",
    "plt.plot(custom_model_history.history['val_loss'])\n",
    "plt.axis(ymin=0.4, ymax = 1)\n",
    "plt.grid()\n",
    "plt.title('Model Accuracy')\n",
    "plt.ylabel('Accuracy')\n",
    "plt.xlabel('Epochs')\n",
    "plt.legend(['train', 'validation'])\n",
    "plt.show()"
   ]
  },
  {
   "cell_type": "markdown",
   "metadata": {},
   "source": [
    "#### ResNet-50 Model"
   ]
  },
  {
   "cell_type": "code",
   "execution_count": 13,
   "metadata": {},
   "outputs": [
    {
     "name": "stdout",
     "output_type": "stream",
     "text": [
      "Total number of layers in ResNet50: 176\n"
     ]
    },
    {
     "data": {
      "text/html": [
       "<pre style=\"white-space:pre;overflow-x:auto;line-height:normal;font-family:Menlo,'DejaVu Sans Mono',consolas,'Courier New',monospace\"><span style=\"font-weight: bold\">Model: \"sequential_1\"</span>\n",
       "</pre>\n"
      ],
      "text/plain": [
       "\u001b[1mModel: \"sequential_1\"\u001b[0m\n"
      ]
     },
     "metadata": {},
     "output_type": "display_data"
    },
    {
     "data": {
      "text/html": [
       "<pre style=\"white-space:pre;overflow-x:auto;line-height:normal;font-family:Menlo,'DejaVu Sans Mono',consolas,'Courier New',monospace\">┏━━━━━━━━━━━━━━━━━━━━━━━━━━━━━━━━━┳━━━━━━━━━━━━━━━━━━━━━━━━┳━━━━━━━━━━━━━━━┓\n",
       "┃<span style=\"font-weight: bold\"> Layer (type)                    </span>┃<span style=\"font-weight: bold\"> Output Shape           </span>┃<span style=\"font-weight: bold\">       Param # </span>┃\n",
       "┡━━━━━━━━━━━━━━━━━━━━━━━━━━━━━━━━━╇━━━━━━━━━━━━━━━━━━━━━━━━╇━━━━━━━━━━━━━━━┩\n",
       "│ resnet50 (<span style=\"color: #0087ff; text-decoration-color: #0087ff\">Functional</span>)           │ (<span style=\"color: #00d7ff; text-decoration-color: #00d7ff\">None</span>, <span style=\"color: #00af00; text-decoration-color: #00af00\">2048</span>)           │    <span style=\"color: #00af00; text-decoration-color: #00af00\">23,587,712</span> │\n",
       "├─────────────────────────────────┼────────────────────────┼───────────────┤\n",
       "│ dense_3 (<span style=\"color: #0087ff; text-decoration-color: #0087ff\">Dense</span>)                 │ (<span style=\"color: #00d7ff; text-decoration-color: #00d7ff\">None</span>, <span style=\"color: #00af00; text-decoration-color: #00af00\">32</span>)             │        <span style=\"color: #00af00; text-decoration-color: #00af00\">65,568</span> │\n",
       "├─────────────────────────────────┼────────────────────────┼───────────────┤\n",
       "│ dropout_2 (<span style=\"color: #0087ff; text-decoration-color: #0087ff\">Dropout</span>)             │ (<span style=\"color: #00d7ff; text-decoration-color: #00d7ff\">None</span>, <span style=\"color: #00af00; text-decoration-color: #00af00\">32</span>)             │             <span style=\"color: #00af00; text-decoration-color: #00af00\">0</span> │\n",
       "├─────────────────────────────────┼────────────────────────┼───────────────┤\n",
       "│ batch_normalization_2           │ (<span style=\"color: #00d7ff; text-decoration-color: #00d7ff\">None</span>, <span style=\"color: #00af00; text-decoration-color: #00af00\">32</span>)             │           <span style=\"color: #00af00; text-decoration-color: #00af00\">128</span> │\n",
       "│ (<span style=\"color: #0087ff; text-decoration-color: #0087ff\">BatchNormalization</span>)            │                        │               │\n",
       "├─────────────────────────────────┼────────────────────────┼───────────────┤\n",
       "│ dense_4 (<span style=\"color: #0087ff; text-decoration-color: #0087ff\">Dense</span>)                 │ (<span style=\"color: #00d7ff; text-decoration-color: #00d7ff\">None</span>, <span style=\"color: #00af00; text-decoration-color: #00af00\">32</span>)             │         <span style=\"color: #00af00; text-decoration-color: #00af00\">1,056</span> │\n",
       "├─────────────────────────────────┼────────────────────────┼───────────────┤\n",
       "│ dropout_3 (<span style=\"color: #0087ff; text-decoration-color: #0087ff\">Dropout</span>)             │ (<span style=\"color: #00d7ff; text-decoration-color: #00d7ff\">None</span>, <span style=\"color: #00af00; text-decoration-color: #00af00\">32</span>)             │             <span style=\"color: #00af00; text-decoration-color: #00af00\">0</span> │\n",
       "├─────────────────────────────────┼────────────────────────┼───────────────┤\n",
       "│ batch_normalization_3           │ (<span style=\"color: #00d7ff; text-decoration-color: #00d7ff\">None</span>, <span style=\"color: #00af00; text-decoration-color: #00af00\">32</span>)             │           <span style=\"color: #00af00; text-decoration-color: #00af00\">128</span> │\n",
       "│ (<span style=\"color: #0087ff; text-decoration-color: #0087ff\">BatchNormalization</span>)            │                        │               │\n",
       "├─────────────────────────────────┼────────────────────────┼───────────────┤\n",
       "│ dense_5 (<span style=\"color: #0087ff; text-decoration-color: #0087ff\">Dense</span>)                 │ (<span style=\"color: #00d7ff; text-decoration-color: #00d7ff\">None</span>, <span style=\"color: #00af00; text-decoration-color: #00af00\">1</span>)              │            <span style=\"color: #00af00; text-decoration-color: #00af00\">33</span> │\n",
       "└─────────────────────────────────┴────────────────────────┴───────────────┘\n",
       "</pre>\n"
      ],
      "text/plain": [
       "┏━━━━━━━━━━━━━━━━━━━━━━━━━━━━━━━━━┳━━━━━━━━━━━━━━━━━━━━━━━━┳━━━━━━━━━━━━━━━┓\n",
       "┃\u001b[1m \u001b[0m\u001b[1mLayer (type)                   \u001b[0m\u001b[1m \u001b[0m┃\u001b[1m \u001b[0m\u001b[1mOutput Shape          \u001b[0m\u001b[1m \u001b[0m┃\u001b[1m \u001b[0m\u001b[1m      Param #\u001b[0m\u001b[1m \u001b[0m┃\n",
       "┡━━━━━━━━━━━━━━━━━━━━━━━━━━━━━━━━━╇━━━━━━━━━━━━━━━━━━━━━━━━╇━━━━━━━━━━━━━━━┩\n",
       "│ resnet50 (\u001b[38;5;33mFunctional\u001b[0m)           │ (\u001b[38;5;45mNone\u001b[0m, \u001b[38;5;34m2048\u001b[0m)           │    \u001b[38;5;34m23,587,712\u001b[0m │\n",
       "├─────────────────────────────────┼────────────────────────┼───────────────┤\n",
       "│ dense_3 (\u001b[38;5;33mDense\u001b[0m)                 │ (\u001b[38;5;45mNone\u001b[0m, \u001b[38;5;34m32\u001b[0m)             │        \u001b[38;5;34m65,568\u001b[0m │\n",
       "├─────────────────────────────────┼────────────────────────┼───────────────┤\n",
       "│ dropout_2 (\u001b[38;5;33mDropout\u001b[0m)             │ (\u001b[38;5;45mNone\u001b[0m, \u001b[38;5;34m32\u001b[0m)             │             \u001b[38;5;34m0\u001b[0m │\n",
       "├─────────────────────────────────┼────────────────────────┼───────────────┤\n",
       "│ batch_normalization_2           │ (\u001b[38;5;45mNone\u001b[0m, \u001b[38;5;34m32\u001b[0m)             │           \u001b[38;5;34m128\u001b[0m │\n",
       "│ (\u001b[38;5;33mBatchNormalization\u001b[0m)            │                        │               │\n",
       "├─────────────────────────────────┼────────────────────────┼───────────────┤\n",
       "│ dense_4 (\u001b[38;5;33mDense\u001b[0m)                 │ (\u001b[38;5;45mNone\u001b[0m, \u001b[38;5;34m32\u001b[0m)             │         \u001b[38;5;34m1,056\u001b[0m │\n",
       "├─────────────────────────────────┼────────────────────────┼───────────────┤\n",
       "│ dropout_3 (\u001b[38;5;33mDropout\u001b[0m)             │ (\u001b[38;5;45mNone\u001b[0m, \u001b[38;5;34m32\u001b[0m)             │             \u001b[38;5;34m0\u001b[0m │\n",
       "├─────────────────────────────────┼────────────────────────┼───────────────┤\n",
       "│ batch_normalization_3           │ (\u001b[38;5;45mNone\u001b[0m, \u001b[38;5;34m32\u001b[0m)             │           \u001b[38;5;34m128\u001b[0m │\n",
       "│ (\u001b[38;5;33mBatchNormalization\u001b[0m)            │                        │               │\n",
       "├─────────────────────────────────┼────────────────────────┼───────────────┤\n",
       "│ dense_5 (\u001b[38;5;33mDense\u001b[0m)                 │ (\u001b[38;5;45mNone\u001b[0m, \u001b[38;5;34m1\u001b[0m)              │            \u001b[38;5;34m33\u001b[0m │\n",
       "└─────────────────────────────────┴────────────────────────┴───────────────┘\n"
      ]
     },
     "metadata": {},
     "output_type": "display_data"
    },
    {
     "data": {
      "text/html": [
       "<pre style=\"white-space:pre;overflow-x:auto;line-height:normal;font-family:Menlo,'DejaVu Sans Mono',consolas,'Courier New',monospace\"><span style=\"font-weight: bold\"> Total params: </span><span style=\"color: #00af00; text-decoration-color: #00af00\">23,654,625</span> (90.24 MB)\n",
       "</pre>\n"
      ],
      "text/plain": [
       "\u001b[1m Total params: \u001b[0m\u001b[38;5;34m23,654,625\u001b[0m (90.24 MB)\n"
      ]
     },
     "metadata": {},
     "output_type": "display_data"
    },
    {
     "data": {
      "text/html": [
       "<pre style=\"white-space:pre;overflow-x:auto;line-height:normal;font-family:Menlo,'DejaVu Sans Mono',consolas,'Courier New',monospace\"><span style=\"font-weight: bold\"> Trainable params: </span><span style=\"color: #00af00; text-decoration-color: #00af00\">66,785</span> (260.88 KB)\n",
       "</pre>\n"
      ],
      "text/plain": [
       "\u001b[1m Trainable params: \u001b[0m\u001b[38;5;34m66,785\u001b[0m (260.88 KB)\n"
      ]
     },
     "metadata": {},
     "output_type": "display_data"
    },
    {
     "data": {
      "text/html": [
       "<pre style=\"white-space:pre;overflow-x:auto;line-height:normal;font-family:Menlo,'DejaVu Sans Mono',consolas,'Courier New',monospace\"><span style=\"font-weight: bold\"> Non-trainable params: </span><span style=\"color: #00af00; text-decoration-color: #00af00\">23,587,840</span> (89.98 MB)\n",
       "</pre>\n"
      ],
      "text/plain": [
       "\u001b[1m Non-trainable params: \u001b[0m\u001b[38;5;34m23,587,840\u001b[0m (89.98 MB)\n"
      ]
     },
     "metadata": {},
     "output_type": "display_data"
    },
    {
     "name": "stdout",
     "output_type": "stream",
     "text": [
      "Epoch 1/15\n",
      "\u001b[1m100/100\u001b[0m \u001b[32m━━━━━━━━━━━━━━━━━━━━\u001b[0m\u001b[37m\u001b[0m \u001b[1m37s\u001b[0m 272ms/step - accuracy: 0.5161 - loss: 0.9565 - val_accuracy: 0.2362 - val_loss: 0.9342\n",
      "Epoch 2/15\n",
      "\u001b[1m100/100\u001b[0m \u001b[32m━━━━━━━━━━━━━━━━━━━━\u001b[0m\u001b[37m\u001b[0m \u001b[1m23s\u001b[0m 233ms/step - accuracy: 0.5539 - loss: 0.9256 - val_accuracy: 0.2237 - val_loss: 1.0188\n",
      "Epoch 3/15\n",
      "\u001b[1m100/100\u001b[0m \u001b[32m━━━━━━━━━━━━━━━━━━━━\u001b[0m\u001b[37m\u001b[0m \u001b[1m25s\u001b[0m 249ms/step - accuracy: 0.5686 - loss: 0.8783 - val_accuracy: 0.3375 - val_loss: 0.9714\n",
      "Epoch 4/15\n",
      "\u001b[1m100/100\u001b[0m \u001b[32m━━━━━━━━━━━━━━━━━━━━\u001b[0m\u001b[37m\u001b[0m \u001b[1m23s\u001b[0m 233ms/step - accuracy: 0.5746 - loss: 0.8774 - val_accuracy: 0.3887 - val_loss: 0.9376\n",
      "Epoch 5/15\n",
      "\u001b[1m100/100\u001b[0m \u001b[32m━━━━━━━━━━━━━━━━━━━━\u001b[0m\u001b[37m\u001b[0m \u001b[1m23s\u001b[0m 227ms/step - accuracy: 0.6003 - loss: 0.8349 - val_accuracy: 0.4737 - val_loss: 0.8799\n",
      "Epoch 6/15\n",
      "\u001b[1m100/100\u001b[0m \u001b[32m━━━━━━━━━━━━━━━━━━━━\u001b[0m\u001b[37m\u001b[0m \u001b[1m23s\u001b[0m 232ms/step - accuracy: 0.6355 - loss: 0.7596 - val_accuracy: 0.4650 - val_loss: 0.8686\n",
      "Epoch 7/15\n",
      "\u001b[1m100/100\u001b[0m \u001b[32m━━━━━━━━━━━━━━━━━━━━\u001b[0m\u001b[37m\u001b[0m \u001b[1m23s\u001b[0m 229ms/step - accuracy: 0.6175 - loss: 0.7941 - val_accuracy: 0.4938 - val_loss: 0.8315\n",
      "Epoch 8/15\n",
      "\u001b[1m100/100\u001b[0m \u001b[32m━━━━━━━━━━━━━━━━━━━━\u001b[0m\u001b[37m\u001b[0m \u001b[1m24s\u001b[0m 240ms/step - accuracy: 0.6461 - loss: 0.7569 - val_accuracy: 0.5550 - val_loss: 0.7831\n",
      "Epoch 9/15\n",
      "\u001b[1m100/100\u001b[0m \u001b[32m━━━━━━━━━━━━━━━━━━━━\u001b[0m\u001b[37m\u001b[0m \u001b[1m24s\u001b[0m 238ms/step - accuracy: 0.6411 - loss: 0.7620 - val_accuracy: 0.5250 - val_loss: 0.8106\n",
      "Epoch 10/15\n",
      "\u001b[1m100/100\u001b[0m \u001b[32m━━━━━━━━━━━━━━━━━━━━\u001b[0m\u001b[37m\u001b[0m \u001b[1m23s\u001b[0m 232ms/step - accuracy: 0.6634 - loss: 0.7533 - val_accuracy: 0.6350 - val_loss: 0.7098\n",
      "Epoch 11/15\n",
      "\u001b[1m100/100\u001b[0m \u001b[32m━━━━━━━━━━━━━━━━━━━━\u001b[0m\u001b[37m\u001b[0m \u001b[1m24s\u001b[0m 236ms/step - accuracy: 0.6575 - loss: 0.7122 - val_accuracy: 0.6388 - val_loss: 0.7086\n",
      "Epoch 12/15\n",
      "\u001b[1m100/100\u001b[0m \u001b[32m━━━━━━━━━━━━━━━━━━━━\u001b[0m\u001b[37m\u001b[0m \u001b[1m24s\u001b[0m 235ms/step - accuracy: 0.6803 - loss: 0.6881 - val_accuracy: 0.6450 - val_loss: 0.6917\n",
      "Epoch 13/15\n",
      "\u001b[1m100/100\u001b[0m \u001b[32m━━━━━━━━━━━━━━━━━━━━\u001b[0m\u001b[37m\u001b[0m \u001b[1m23s\u001b[0m 233ms/step - accuracy: 0.7024 - loss: 0.6686 - val_accuracy: 0.6350 - val_loss: 0.6984\n",
      "Epoch 14/15\n",
      "\u001b[1m100/100\u001b[0m \u001b[32m━━━━━━━━━━━━━━━━━━━━\u001b[0m\u001b[37m\u001b[0m \u001b[1m23s\u001b[0m 231ms/step - accuracy: 0.6943 - loss: 0.6917 - val_accuracy: 0.6463 - val_loss: 0.6886\n",
      "Epoch 15/15\n",
      "\u001b[1m100/100\u001b[0m \u001b[32m━━━━━━━━━━━━━━━━━━━━\u001b[0m\u001b[37m\u001b[0m \u001b[1m23s\u001b[0m 232ms/step - accuracy: 0.7151 - loss: 0.6413 - val_accuracy: 0.6888 - val_loss: 0.6448\n",
      "Epoch 1/5\n",
      "\u001b[1m100/100\u001b[0m \u001b[32m━━━━━━━━━━━━━━━━━━━━\u001b[0m\u001b[37m\u001b[0m \u001b[1m40s\u001b[0m 285ms/step - accuracy: 0.7109 - loss: 0.6691 - val_accuracy: 0.7600 - val_loss: 0.5458\n",
      "Epoch 2/5\n",
      "\u001b[1m100/100\u001b[0m \u001b[32m━━━━━━━━━━━━━━━━━━━━\u001b[0m\u001b[37m\u001b[0m \u001b[1m24s\u001b[0m 243ms/step - accuracy: 0.7986 - loss: 0.5270 - val_accuracy: 0.8662 - val_loss: 0.4245\n",
      "Epoch 3/5\n",
      "\u001b[1m100/100\u001b[0m \u001b[32m━━━━━━━━━━━━━━━━━━━━\u001b[0m\u001b[37m\u001b[0m \u001b[1m26s\u001b[0m 258ms/step - accuracy: 0.8244 - loss: 0.4883 - val_accuracy: 0.8975 - val_loss: 0.3675\n",
      "Epoch 4/5\n",
      "\u001b[1m100/100\u001b[0m \u001b[32m━━━━━━━━━━━━━━━━━━━━\u001b[0m\u001b[37m\u001b[0m \u001b[1m25s\u001b[0m 246ms/step - accuracy: 0.8465 - loss: 0.4448 - val_accuracy: 0.9175 - val_loss: 0.3549\n",
      "Epoch 5/5\n",
      "\u001b[1m100/100\u001b[0m \u001b[32m━━━━━━━━━━━━━━━━━━━━\u001b[0m\u001b[37m\u001b[0m \u001b[1m24s\u001b[0m 241ms/step - accuracy: 0.8783 - loss: 0.4109 - val_accuracy: 0.9400 - val_loss: 0.3194\n",
      "Total Time consumed for 15 epoch/s ---> 506.67046029999983\n"
     ]
    }
   ],
   "source": [
    "# number of epochs\n",
    "epoch = 15\n",
    "start = timer()\n",
    "\n",
    "# ResNet50 Model\n",
    "resnet_model = cnn.ResNetModel()\n",
    "resnet_model.compile(optimizer=Adam(learning_rate=0.00001), loss='binary_crossentropy', metrics=['accuracy'])\n",
    "resnet_model.fit(x = train_ds, validation_data=validation_ds, epochs=epoch)\n",
    "\n",
    "# Fine-tuning (Unfreeze Top Layers)\n",
    "pretrained_model = resnet_model.layers[0] # Get the ResNet50 model\n",
    "\n",
    "# Unfreeze some top layers (experiment with the number)\n",
    "for layer in pretrained_model.layers[165:]:  # Unfreeze from layer 100 onwards (adjust)\n",
    "    layer.trainable = True\n",
    "\n",
    "# Important: Recompile the model after changing trainable status\n",
    "resnet_model.compile(optimizer=Adam(learning_rate=1e-5),  # Very low learning rate for fine-tuning\n",
    "                    loss='binary_crossentropy', \n",
    "                    metrics=['accuracy'])\n",
    "\n",
    "resnet50_model_history = resnet_model.fit(x = train_ds, validation_data=validation_ds, epochs=5)\n",
    "print('Total Time consumed for ' + str(epoch) + ' epoch/s --->', timer()-start)"
   ]
  },
  {
   "cell_type": "markdown",
   "metadata": {},
   "source": [
    "#### Evaluate Model"
   ]
  },
  {
   "cell_type": "code",
   "execution_count": 14,
   "metadata": {},
   "outputs": [
    {
     "data": {
      "image/png": "[encoded data removed]",
      "text/plain": [
       "<Figure size 640x480 with 1 Axes>"
      ]
     },
     "metadata": {},
     "output_type": "display_data"
    }
   ],
   "source": [
    "fig_one = plt.gcf()\n",
    "\n",
    "# Model Accuracy\n",
    "plt.plot(resnet50_model_history.history['accuracy'])\n",
    "plt.plot(resnet50_model_history.history['val_accuracy'])\n",
    "plt.axis(ymin=0.4, ymax = 1)\n",
    "plt.grid()\n",
    "plt.title('Model Accuracy')\n",
    "plt.ylabel('Accuracy')\n",
    "plt.xlabel('Epochs')\n",
    "plt.legend(['train', 'validation'])\n",
    "plt.show()"
   ]
  },
  {
   "cell_type": "code",
   "execution_count": 15,
   "metadata": {},
   "outputs": [
    {
     "data": {
      "image/png": "[encoded data removed]",
      "text/plain": [
       "<Figure size 640x480 with 1 Axes>"
      ]
     },
     "metadata": {},
     "output_type": "display_data"
    }
   ],
   "source": [
    "# Model Loss\n",
    "plt.plot(resnet50_model_history.history['loss'])\n",
    "plt.plot(resnet50_model_history.history['val_loss'])\n",
    "plt.grid()\n",
    "plt.title('Model Loss')\n",
    "plt.ylabel('Loss')\n",
    "plt.xlabel('Epochs')\n",
    "plt.legend(['train', 'validation'])\n",
    "plt.show()"
   ]
  },
  {
   "cell_type": "markdown",
   "metadata": {},
   "source": [
    "## TESTING THE MODEL"
   ]
  },
  {
   "cell_type": "code",
   "execution_count": 19,
   "metadata": {},
   "outputs": [
    {
     "name": "stdout",
     "output_type": "stream",
     "text": [
      "Found 600 files belonging to 2 classes.\n"
     ]
    }
   ],
   "source": [
    "# Testing Dataset Directory\n",
    "# Rice Bran\n",
    "# test_dir = '/mnt/c/Users/Room201B/Documents/Salem - Thesis/Dataset/Rice Bran/Testing/Set 3'\n",
    "\n",
    "# Soybean Meal\n",
    "test_dir = '/mnt/c/Users/Room201B/Documents/Salem - Thesis/Dataset/Soybean Meal/Testing/Set 2'\n",
    "\n",
    "test_ds = tf.keras.utils.image_dataset_from_directory(\n",
    "    test_dir,\n",
    "    image_size=(400, 400),\n",
    "    batch_size=32,\n",
    "    label_mode='binary',\n",
    "    shuffle=False\n",
    ")"
   ]
  },
  {
   "cell_type": "markdown",
   "metadata": {},
   "source": [
    "### Evaluate Custom Model"
   ]
  },
  {
   "cell_type": "code",
   "execution_count": null,
   "metadata": {},
   "outputs": [],
   "source": [
    "# Evaluate the model on the test dataset\n",
    "test_loss, test_accuracy = custom_model.evaluate(test_ds)\n",
    "print(f'Test Loss: {test_loss}')\n",
    "print(f'Test Accuracy: {test_accuracy}')\n",
    "\n",
    "# Generate predictions\n",
    "y_true = np.concatenate([y for x, y in test_ds], axis=0)\n",
    "y_pred = custom_model.predict(test_ds)\n",
    "y_pred = (y_pred > 0.5).astype(int)  # For binary classification\n",
    "\n",
    "# Compute evaluation metrics\n",
    "print(\"Classification Report:\")\n",
    "print(classification_report(y_true, y_pred, target_names=[\"Adulterated\", \"Pure\"]))\n",
    "\n",
    "precision = precision_score(y_true, y_pred)\n",
    "recall = recall_score(y_true, y_pred)\n",
    "f1 = f1_score(y_true, y_pred)\n",
    "\n",
    "print(f\"Precision: {precision}\")\n",
    "print(f\"Recall: {recall}\")\n",
    "print(f\"F1 Score: {f1}\")\n",
    "\n",
    "# Compute the confusion matrix\n",
    "cm = confusion_matrix(y_true, y_pred)\n",
    "\n",
    "# Display the confusion matrix\n",
    "plt.figure(figsize=(8, 6))\n",
    "sns.heatmap(cm, annot=True, fmt='d', cmap='Blues', xticklabels=['Adulterated', 'Pure'], yticklabels=['Adulterated', 'Pure'])\n",
    "plt.xlabel('Predicted')\n",
    "plt.ylabel('True')\n",
    "plt.title('Confusion Matrix')\n",
    "plt.show()"
   ]
  },
  {
   "cell_type": "markdown",
   "metadata": {},
   "source": [
    "### Evaluate ResNet Model"
   ]
  },
  {
   "cell_type": "code",
   "execution_count": 20,
   "metadata": {},
   "outputs": [
    {
     "name": "stdout",
     "output_type": "stream",
     "text": [
      "\u001b[1m19/19\u001b[0m \u001b[32m━━━━━━━━━━━━━━━━━━━━\u001b[0m\u001b[37m\u001b[0m \u001b[1m5s\u001b[0m 229ms/step - accuracy: 0.8624 - loss: 0.3524\n",
      "Test Loss: 0.7309847474098206\n",
      "Test Accuracy: 0.6150000095367432\n"
     ]
    },
    {
     "name": "stderr",
     "output_type": "stream",
     "text": [
      "2025-02-16 21:35:57.535505: I tensorflow/core/framework/local_rendezvous.cc:405] Local rendezvous is aborting with status: OUT_OF_RANGE: End of sequence\n"
     ]
    },
    {
     "name": "stdout",
     "output_type": "stream",
     "text": [
      "\u001b[1m19/19\u001b[0m \u001b[32m━━━━━━━━━━━━━━━━━━━━\u001b[0m\u001b[37m\u001b[0m \u001b[1m4s\u001b[0m 212ms/step\n",
      "Classification Report:\n",
      "              precision    recall  f1-score   support\n",
      "\n",
      " Adulterated       0.56      1.00      0.72       300\n",
      "        Pure       1.00      0.23      0.37       300\n",
      "\n",
      "    accuracy                           0.61       600\n",
      "   macro avg       0.78      0.61      0.55       600\n",
      "weighted avg       0.78      0.61      0.55       600\n",
      "\n",
      "Precision: 1.0\n",
      "Recall: 0.23\n",
      "F1 Score: 0.37398373983739835\n"
     ]
    },
    {
     "data": {
      "image/png": "[encoded data removed]",
      "text/plain": [
       "<Figure size 800x600 with 2 Axes>"
      ]
     },
     "metadata": {},
     "output_type": "display_data"
    }
   ],
   "source": [
    "# Evaluate the model on the test dataset\n",
    "test_loss, test_accuracy = resnet_model.evaluate(test_ds)\n",
    "print(f'Test Loss: {test_loss}')\n",
    "print(f'Test Accuracy: {test_accuracy}')\n",
    "\n",
    "# Generate predictions\n",
    "y_true = np.concatenate([y for x, y in test_ds], axis=0)\n",
    "y_pred = resnet_model.predict(test_ds)\n",
    "y_pred = (y_pred > 0.5).astype(int)  # For binary classification\n",
    "\n",
    "# Compute evaluation metrics\n",
    "print(\"Classification Report:\")\n",
    "print(classification_report(y_true, y_pred, target_names=[\"Adulterated\", \"Pure\"]))\n",
    "\n",
    "precision = precision_score(y_true, y_pred)\n",
    "recall = recall_score(y_true, y_pred)\n",
    "f1 = f1_score(y_true, y_pred)\n",
    "\n",
    "print(f\"Precision: {precision}\")\n",
    "print(f\"Recall: {recall}\")\n",
    "print(f\"F1 Score: {f1}\")\n",
    "\n",
    "# Compute the confusion matrix\n",
    "cm = confusion_matrix(y_true, y_pred)\n",
    "\n",
    "# Display the confusion matrix\n",
    "plt.figure(figsize=(8, 6))\n",
    "sns.heatmap(cm, annot=True, fmt='d', cmap='Blues', xticklabels=['Adulterated', 'Pure'], yticklabels=['Adulterated', 'Pure'])\n",
    "plt.xlabel('Predicted')\n",
    "plt.ylabel('True')\n",
    "plt.title('Confusion Matrix')\n",
    "plt.show()"
   ]
  },
  {
   "cell_type": "markdown",
   "metadata": {},
   "source": [
    "### Save the Model"
   ]
  },
  {
   "cell_type": "code",
   "execution_count": 18,
   "metadata": {},
   "outputs": [
    {
     "name": "stderr",
     "output_type": "stream",
     "text": [
      "WARNING:absl:You are saving your model as an HDF5 file via `model.save()` or `keras.saving.save_model(model)`. This file format is considered legacy. We recommend using instead the native Keras format, e.g. `model.save('my_model.keras')` or `keras.saving.save_model(model, 'my_model.keras')`. \n"
     ]
    }
   ],
   "source": [
    "# Save the entire model\n",
    "# Rice Bran\n",
    "#resnet_model.save('/mnt/c/Users/Room201B/Documents/Salem - Thesis/Saved Models/Rice Bran/set3_rb_resnet_11.h5')\n",
    "#custom_model.save('/mnt/c/Users/Room201B/Documents/Salem - Thesis/Saved Models/Rice Bran/set3_rb_custom_7.h5')\n",
    "\n",
    "# Soybean Meal\n",
    "resnet_model.save('/mnt/c/Users/Room201B/Documents/Salem - Thesis/Saved Models/Soybean Meal/set1_sbm_resnet_2.h5')"
   ]
  },
  {
   "cell_type": "markdown",
   "metadata": {},
   "source": [
    "## TEST THE SAVED MODELS"
   ]
  },
  {
   "cell_type": "code",
   "execution_count": null,
   "metadata": {},
   "outputs": [
    {
     "name": "stderr",
     "output_type": "stream",
     "text": [
      "WARNING:absl:Compiled the loaded model, but the compiled metrics have yet to be built. `model.compile_metrics` will be empty until you train or evaluate the model.\n"
     ]
    },
    {
     "name": "stdout",
     "output_type": "stream",
     "text": [
      "\u001b[1m19/19\u001b[0m \u001b[32m━━━━━━━━━━━━━━━━━━━━\u001b[0m\u001b[37m\u001b[0m \u001b[1m10s\u001b[0m 303ms/step - accuracy: 0.9565 - loss: 0.2148\n",
      "Test Loss (Loaded Model): 0.21950340270996094\n",
      "Test Accuracy (Loaded Model): 0.9483333230018616\n",
      "\u001b[1m1/1\u001b[0m \u001b[32m━━━━━━━━━━━━━━━━━━━━\u001b[0m\u001b[37m\u001b[0m \u001b[1m3s\u001b[0m 3s/step\n",
      "Predicted Class: Adulterated\n"
     ]
    }
   ],
   "source": [
    "# test sample image\n",
    "\n",
    "# Step 1: Load the saved model\n",
    "loaded_model = load_model('/mnt/c/Users/Room201B/Documents/Salem - Thesis/Saved Models/Rice Bran/set3_rb_resnet_9.h5')\n",
    "#loaded_model = load_model('/mnt/c/Users/Room201B/Documents/Salem - Thesis/Saved Models/Rice Bran/rb_custom_6.h5')\n",
    "\n",
    "# Step 2: Verify the loaded model\n",
    "test_loss, test_accuracy = loaded_model.evaluate(test_ds)\n",
    "print(f'Test Loss (Loaded Model): {test_loss}')\n",
    "print(f'Test Accuracy (Loaded Model): {test_accuracy}')\n",
    "\n",
    "# Generate predictions\n",
    "y_true = np.concatenate([y for x, y in test_ds], axis=0)\n",
    "y_pred = loaded_model.predict(test_ds)\n",
    "y_pred = (y_pred > 0.5).astype(int)  # For binary classification\n",
    "\n",
    "# Compute evaluation metrics\n",
    "print(\"Classification Report:\")\n",
    "print(classification_report(y_true, y_pred, target_names=[\"Adulterated\", \"Pure\"]))\n",
    "\n",
    "precision = precision_score(y_true, y_pred)\n",
    "recall = recall_score(y_true, y_pred)\n",
    "f1 = f1_score(y_true, y_pred)\n",
    "\n",
    "print(f\"Precision: {precision}\")\n",
    "print(f\"Recall: {recall}\")\n",
    "print(f\"F1 Score: {f1}\")\n",
    "\n",
    "# Compute the confusion matrix\n",
    "cm = confusion_matrix(y_true, y_pred)\n",
    "\n",
    "# Display the confusion matrix\n",
    "plt.figure(figsize=(8, 6))\n",
    "sns.heatmap(cm, annot=True, fmt='d', cmap='Blues', xticklabels=['Adulterated', 'Pure'], yticklabels=['Adulterated', 'Pure'])\n",
    "plt.xlabel('Predicted')\n",
    "plt.ylabel('True')\n",
    "plt.title('Confusion Matrix')\n",
    "plt.show()"
   ]
  },
  {
   "cell_type": "markdown",
   "metadata": {},
   "source": [
    "### Demo Individual Images"
   ]
  },
  {
   "cell_type": "code",
   "execution_count": null,
   "metadata": {},
   "outputs": [],
   "source": [
    "# Step 3: Make predictions on new data\n",
    "#img_path = '/mnt/c/Users/Room201B/Documents/Salem - Thesis/Dataset/Rice Bran/Testing/Set 3/Pure/image (1).jpg'\n",
    "img_path = '/mnt/c/Users/Room201B/Documents/Salem - Thesis/Dataset/Rice Bran/Testing/Set 3/Adulterated/image (1).jpg'\n",
    "img = image.load_img(img_path, target_size=(400, 400))  # Resize to match model input size\n",
    "img_array = image.img_to_array(img)  # Convert image to numpy array\n",
    "img_array = np.expand_dims(img_array, axis=0)  # Add batch dimension\n",
    "#img_array = img_array / 255.0  # Normalize pixel values (if required)\n",
    "\n",
    "# Make a prediction\n",
    "prediction = loaded_model.predict(img_array)\n",
    "\n",
    "# For binary classification, convert probabilities to class labels\n",
    "if prediction > 0.5:\n",
    "    print(\"Predicted Class: Pure\")\n",
    "else:\n",
    "    print(\"Predicted Class: Adulterated\")"
   ]
  }
 ],
 "metadata": {
  "kernelspec": {
   "display_name": "base",
   "language": "python",
   "name": "python3"
  },
  "language_info": {
   "codemirror_mode": {
    "name": "ipython",
    "version": 3
   },
   "file_extension": ".py",
   "mimetype": "text/x-python",
   "name": "python",
   "nbconvert_exporter": "python",
   "pygments_lexer": "ipython3",
   "version": "3.12.7"
  }
 },
 "nbformat": 4,
 "nbformat_minor": 4
}
